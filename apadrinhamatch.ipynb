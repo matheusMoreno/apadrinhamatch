{
 "cells": [
  {
   "cell_type": "code",
   "execution_count": 1,
   "metadata": {
    "colab": {},
    "colab_type": "code",
    "id": "SywCZSARP6GI"
   },
   "outputs": [],
   "source": [
    "import numpy as np\n",
    "from scipy.spatial.distance import cosine as cosdist\n",
    "import csv"
   ]
  },
  {
   "cell_type": "markdown",
   "metadata": {
    "colab_type": "text",
    "id": "8cUd7BDLP6GT"
   },
   "source": [
    "# Apadrinhamatch\n",
    "\n",
    "Código que pega respostas de um Google Forms e trata-as de acordo, gerando um perfil para cada usuário que respondeu. Depois, é feito um \"match\" entre calouros e veteranos com perfis mais próximos (calculando a distância de coseno entre os vetores de cada usuário).\n",
    "\n",
    "O vetor perfil (e as pontuações para cada resposta) foi gerado de maneira completamente arbitrária, e modificações podem ser feitas nele para melhores resultados.\n",
    "\n",
    "Ordem dos elementos do vetor do aluno:\n",
    "- Nome\n",
    "- Telefone\n",
    "- Calouro/Veterano\n",
    "- Onde mora\n",
    "- Interesses acadêmicos\n",
    "- Rolês\n",
    "- Hobbies\n",
    "- Outras áreas\n",
    "- Período\n",
    "- Barra\n",
    "- Jacarepaguá\n",
    "- Centro\n",
    "- Grande Tijuca\n",
    "- Ilha/Alojamento\n",
    "- Niterói\n",
    "- Zona Sul\n",
    "- Zona Norte\n",
    "- Zona Oeste\n",
    "- Baixada Fluminense"
   ]
  },
  {
   "cell_type": "code",
   "execution_count": 2,
   "metadata": {
    "colab": {},
    "colab_type": "code",
    "id": "QJ5OyCA2P6GV",
    "scrolled": true
   },
   "outputs": [],
   "source": [
    "# Funcao que pega as letras de cada resposta\n",
    "def getOptions(opcoes):\n",
    "    temp = opcoes.split(\";\")\n",
    "    \n",
    "    if (temp == ['']):\n",
    "        return []\n",
    "    \n",
    "    return [x[0] for x in temp]\n",
    "\n",
    "# Instanciando os vetores de calouros e veteranos\n",
    "calouros = []\n",
    "veteranos = []\n",
    "\n",
    "# Fazendo o parse dos alunos do csv \n",
    "with open('respostas.csv', newline='') as f:\n",
    "    reader = csv.reader(f)\n",
    "    primeira = True\n",
    "    \n",
    "    for row in reader:\n",
    "        # Ignoramos a primeira linha do arquivo\n",
    "        if (primeira):\n",
    "            primeira = False\n",
    "            continue\n",
    "            \n",
    "        # Instanciando aluno \n",
    "        aluno = {\"Nome\": \"\", \"Vetor\": np.zeros (26, dtype = int), \"Telefone\": \"\", \"Casta\": \"\",\n",
    "                 \"Local\": \"\", \"Interesses\": [], \"Roles\": [], \"Hobbies\": [], \"Areas\": []}\n",
    "        \n",
    "        # Incluindo as informacoes contidas na linha\n",
    "        aluno[\"Nome\"] = row[1]\n",
    "        aluno[\"Telefone\"] = row[2]\n",
    "        aluno[\"Casta\"] = row[3]\n",
    "        aluno[\"Local\"] = getOptions(row[4]) \n",
    "        aluno[\"Interesses\"] = getOptions(row[5])\n",
    "        aluno[\"Roles\"] = getOptions(row[6])\n",
    "        aluno[\"Hobbies\"] = getOptions(row[7])\n",
    "        aluno[\"Areas\"] = getOptions(row[8])\n",
    "        \n",
    "        # Passando o aluno pra lista correspondente, junto com as informacoes exclusivas\n",
    "        # de cada \"casta\". Calouros possuem uma lista com a pontuacao de cada vet, e veteranos\n",
    "        # guardam o periodo em que estao\n",
    "        if (aluno[\"Casta\"] == \"Calouro\"):\n",
    "            aluno[\"Ranking\"] = []\n",
    "            calouros.append(aluno.copy())\n",
    "        else:\n",
    "            aluno[\"Periodo\"] = getOptions(row[9])\n",
    "            veteranos.append(aluno.copy())"
   ]
  },
  {
   "cell_type": "markdown",
   "metadata": {},
   "source": [
    "## Dicionários de vetores para as respostas"
   ]
  },
  {
   "cell_type": "code",
   "execution_count": 3,
   "metadata": {
    "colab": {},
    "colab_type": "code",
    "id": "TRSX2p4DfF4v"
   },
   "outputs": [],
   "source": [
    "# Dicionario de vetores para as respostas de onde mora\n",
    "locais = {\"a\": np.array([0, 0, 0, 0, 0, 0, 0, 0, 0, 0, 0, 0, 0, 0, 0, 0, 2, 1, 0, 0, 0, 0, 0, 1, 1, 1]),\n",
    "          \"b\": np.array([0, 0, 0, 0, 0, 0, 0, 0, 0, 0, 0, 0, 0, 0, 0, 0, 1, 2, 0, 0, 0, 0, 0, 1, 1, 1]),\n",
    "          \"c\": np.array([0, 0, 0, 0, 0, 0, 0, 0, 0, 0, 0, 0, 0, 0, 0, 0, 0, 0, 2, 1, 0, 0, 1, 0, 0, 0]),\n",
    "          \"d\": np.array([0, 0, 0, 0, 0, 0, 0, 0, 0, 0, 0, 0, 0, 0, 0, 0, 0, 0, 1, 2, 0, 0, 1, 0, 0, 0]),\n",
    "          \"e\": np.array([0, 0, 0, 0, 0, 0, 0, 0, 0, 0, 0, 0, 0, 0, 0, 0, 0, 0, 0, 0, 2, 0, 0, 0, 0, 0]),\n",
    "          \"f\": np.array([0, 0, 0, 0, 0, 0, 0, 0, 0, 0, 0, 0, 0, 0, 0, 0, 0, 0, 0, 0, 0, 0, 0, 0, 0, 0]),\n",
    "          \"g\": np.array([0, 0, 0, 0, 0, 0, 0, 0, 0, 0, 0, 0, 0, 0, 0, 0, 0, 0, 1, 1, 0, 0, 2, 0, 0, 0]),\n",
    "          \"h\": np.array([0, 0, 0, 0, 0, 0, 0, 0, 0, 0, 0, 0, 0, 0, 0, 0, 1, 1, 0, 0, 0, 0, 0, 2, 1, 0]),\n",
    "          \"i\": np.array([0, 0, 0, 0, 0, 0, 0, 0, 0, 0, 0, 0, 0, 0, 0, 0, 1, 1, 0, 0, 0, 0, 0, 1, 2, 0]),\n",
    "          \"j\": np.array([0, 0, 0, 0, 0, 0, 0, 0, 0, 0, 0, 0, 0, 0, 0, 0, 1, 1, 0, 0, 0, 0, 0, 0, 1, 2])}"
   ]
  },
  {
   "cell_type": "code",
   "execution_count": 4,
   "metadata": {
    "colab": {},
    "colab_type": "code",
    "id": "Bkgz7SV_kO4L"
   },
   "outputs": [],
   "source": [
    "# Dicionario de vetores para os interesses extracurriculares\n",
    "interesses = {\"a\": np.array([0, 0, 0, 0, 0, 0, 1, 2, 2, 0, 0, 0, 0, 0, 0, 0, 0, 0, 0, 0, 0, 0, 0, 0, 0, 0]),\n",
    "              \"b\": np.array([0, 1, 0, 0, 0, 0, 1, 1, 0, 0, 0, 0, 2, 0, 1, 0, 0, 0, 0, 0, 0, 0, 0, 0, 0, 0]),\n",
    "              \"c\": np.array([0, 1, 0, 0, 0, 0, 0, 0, 0, 0, 0, -1, 1, 0, 2, 0, 0, 0, 0, 0, 0, 0, 0, 0, 0, 0]),\n",
    "              \"d\": np.array([2, 2, 2, 0, 0, 1, 0, 0, 0, 0, 0, 0, 1, -1, 2, 0, 0, 0, 0, 0, 0, 0, 0, 0, 0, 0]),\n",
    "              \"e\": np.array([0, 0, 0, 0, 0, 0, 0, 1, 1, 0, 1, 0, 0, 0, 1, 0, 0, 0, 0, 0, 0, 0, 0, 0, 0, 0]),\n",
    "              \"f\": np.array([0, 0, 0, 0, 0, 0, 0, 1, 1, 0, 2, 0, 1, 0, 1, 0, 0, 0, 0, 0, 0, 0, 0, 0, 0, 0]),\n",
    "              \"g\": np.array([0, 0, 0, 0, 0, 0, 0, 2, 0, 0, 1, 0, 2, 0, 1, 0, 0, 0, 0, 0, 0, 0, 0, 0, 0, 0]),\n",
    "              \"h\": np.array([0, 1, 1, 0, 0, 0, 0, 0, 0, 0, 1, 0, 0, 0, 2, 0, 0, 0, 0, 0, 0, 0, 0, 0, 0, 0])}"
   ]
  },
  {
   "cell_type": "code",
   "execution_count": 5,
   "metadata": {
    "colab": {},
    "colab_type": "code",
    "id": "_AAuycJarjpc"
   },
   "outputs": [],
   "source": [
    "# Dicionario de vetores para os roles que mais interessam\n",
    "roles = {\"a\": np.array([0, 0, 0, 0, 2, 0, 0, 1, 0, 0, 0, 1, 0, 1, -1, 0, 0, 0, 0, 0, 0, 0, 0, 0, 0, 0]),\n",
    "         \"b\": np.array([0, 1, 2, 0, 0, 0, 0, 0, 0, 0, 0, 0, 0, 0, 1, 0, 0, 0, 0, 0, 0, 0, 0, 0, 0, 0]),\n",
    "         \"c\": np.array([0, 2, 1, 0, 0, 1, 0, 0, 0, 0, 0, 0, 1, -1, 2, 0, 0, 0, 0, 0, 0, 0, 0, 0, 0, 0]),\n",
    "         \"d\": np.array([1, 0, 0, 0, 0, 0, 0, 1, 0, 1, 0, 0, 2, 0, 0, 0, 0, 0, 0, 0, 0, 0, 0, 0, 0, 0]),\n",
    "         \"e\": np.array([0, 0, 0, 0, 2, 0, 0, 1, 0, 0, 0, 1, 0, 0, 0, 0, 0, 0, 0, 0, 0, 0, 0, 0, 0, 0]),\n",
    "         \"f\": np.array([0, 0, 0, 0, 0, 0, 0, 2, 0, 0, 1, 2, 0, 0, 0, 0, 0, 0, 0, 0, 0, 0, 0, 0, 0, 0]),\n",
    "         \"g\": np.array([0, 0, 1, 0, 0, 0, 0, 2, 0, 0, 0, 0, 2, 0, 0, 0, 0, 0, 0, 0, 0, 0, 0, 0, 0, 0]),\n",
    "         \"h\": np.array([2, 0, 0, 0, 0, 0, 0, 0, 0, 0, 0, 0, 1, 0, 1, 0, 0, 0, 0, 0, 0, 0, 0, 0, 0, 0]),\n",
    "         \"i\": np.array([0, 1, 1, 0, 0, 0, 0, 0, 0, 0, 0, 0, 0, 1, 1, 0, 0, 0, 0, 0, 0, 0, 0, 0, 0, 0]),\n",
    "         \"j\": np.array([1, 0, 0, 0, 0, 0, 0, 1, 0, 0, 0, 0, 1, 0, 0, 0, 0, 0, 0, 0, 0, 0, 0, 0, 0, 0]),\n",
    "         \"k\": np.array([0, 1, 1, 0, 0, 1, 0, 0, 0, 0, 0, 1, 0, -1, 1, 0, 0, 0, 0, 0, 0, 0, 0, 0, 0, 0])}"
   ]
  },
  {
   "cell_type": "code",
   "execution_count": 6,
   "metadata": {
    "colab": {},
    "colab_type": "code",
    "id": "fZdhKh6_rtfD"
   },
   "outputs": [],
   "source": [
    "# Dicionario de vetores para os hobbies que mais interessam\n",
    "hobbies = {\"a\": np.array([0, 0, 0, 0, 0, 0, 0, 1, 0, 0, 1, 2, 0, 1, 0, 0, 0, 0, 0, 0, 0, 0, 0, 0, 0, 0]),\n",
    "           \"b\": np.array([0, 1, 0, 0, 0, 2, 1, 0, 0, 0, 0, 2, 0, 0, 0, 0, 0, 0, 0, 0, 0, 0, 0, 0, 0, 0]),\n",
    "           \"c\": np.array([0, 0, 0, 0, 2, 0, 0, 1, 0, 0, 0, 2, 0, 0, 0, 0, 0, 0, 0, 0, 0, 0, 0, 0, 0, 0]),\n",
    "           \"d\": np.array([-1, 0, 0, 2, 0, 0, 0, 0, 0, 0, 0, 0, 0, 1, 0, 0, 0, 0, 0, 0, 0, 0, 0, 0, 0, 0]),\n",
    "           \"e\": np.array([1, 0, 0, 2, 0, 0, 0, 0, 0, 0, 0, 0, 0, 1, 1, 0, 0, 0, 0, 0, 0, 0, 0, 0, 0, 0]),\n",
    "           \"f\": np.array([0, 0, 0, 0, 0, 0, 2, 0, 0, 0, 1, 2, 0, 1, -1, 0, 0, 0, 0, 0, 0, 0, 0, 0, 0, 0]),\n",
    "           \"g\": np.array([0, 0, 0, 0, 1, 0, 2, 0, 0, 0, 0, 2, 0, 1, 0, 0, 0, 0, 0, 0, 0, 0, 0, 0, 0, 0]),\n",
    "           \"h\": np.array([2, 0, 0, 0, 0, 0, 0, 0, 0, 1, 0, 0, 0, -1, 1, 0, 0, 0, 0, 0, 0, 0, 0, 0, 0, 0]),\n",
    "           \"i\": np.array([2, 0, 0, 0, 0, 0, 0, 0, 0, 1, 0, 0, 0, 0, 0, 0, 0, 0, 0, 0, 0, 0, 0, 0, 0, 0]),\n",
    "           \"j\": np.array([0, 0, 0, 0, 0, 0, 2, 1, 0, 0, 0, 2, -1, 1, -1, 0, 0, 0, 0, 0, 0, 0, 0, 0, 0, 0]),\n",
    "           \"k\": np.array([0, 0, 0, 0, 0, 0, 1, 1, 0, 0, 0, 1, 0, 0, 0, 0, 0, 0, 0, 0, 0, 0, 0, 0, 0, 0]),\n",
    "           \"l\": np.array([-1, 0, 0, 0, 0, 0, -1, 1, 0, 0, 0, 0, 0, 2, 0, 0, 0, 0, 0, 0, 0, 0, 0, 0, 0, 0])}"
   ]
  },
  {
   "cell_type": "code",
   "execution_count": 7,
   "metadata": {
    "colab": {},
    "colab_type": "code",
    "id": "aR-Q7EG3r4ah"
   },
   "outputs": [],
   "source": [
    "# Dicionario de vetores para as outras areas disciplinares\n",
    "areas = {\"a\": np.array([0, 0, 0, 0, 0, 0, 1, 0, 0, 0, 2, 1, 0, 0, 0, 0, 0, 0, 0, 0, 0, 0, 0, 0, 0, 0]),\n",
    "         \"b\": np.array([0, 0, 0, 0, 0, 0, 0, 1, 0, 2, 0, 0, 0, 0, 0, 0, 0, 0, 0, 0, 0, 0, 0, 0, 0, 0]),\n",
    "         \"c\": np.array([0, 0, 0, 0, 0, 0, 0, 1, 0, 1, 2, 0, 1, 0, 0, 0, 0, 0, 0, 0, 0, 0, 0, 0, 0, 0]),\n",
    "         \"d\": np.array([0, 0, 0, 0, 0, 0, 0, 1, 2, 0, 0, 0, 0, 0, 0, 0, 0, 0, 0, 0, 0, 0, 0, 0, 0, 0]),\n",
    "         \"e\": np.array([0, 0, 0, 0, 0, 0, 0, 0, 1, 0, 1, 0, 1, 0, 0, 0, 0, 0, 0, 0, 0, 0, 0, 0, 0, 0]),\n",
    "         \"f\": np.array([0, 0, 0, 0, 0, 0, 0, 1, 1, 2, 0, 0, 0, 0, 0, 0, 0, 0, 0, 0, 0, 0, 0, 0, 0, 0]),\n",
    "         \"g\": np.array([0, 0, 0, 0, 0, 2, 1, 0, 1, 0, 0, 2, 0, 0, 0, 0, 0, 0, 0, 0, 0, 0, 0, 0, 0, 0]),\n",
    "         \"h\": np.array([0, 0, 0, 0, 0, 0, 0, 1, 0, 2, 1, 0, 0, 0, 1, 0, 0, 0, 0, 0, 0, 0, 0, 0, 0, 0]),\n",
    "         \"i\": np.array([0, 0, 0, 0, 0, 0, 0, 1, 2, 0, 0, 0, 0, 0, 0, 0, 0, 0, 0, 0, 0, 0, 0, 0, 0, 0])}"
   ]
  },
  {
   "cell_type": "code",
   "execution_count": 8,
   "metadata": {
    "colab": {},
    "colab_type": "code",
    "id": "n2oztoXRr_qA"
   },
   "outputs": [],
   "source": [
    "# Dicionario de vetores para o periodo em que esta\n",
    "periodo = {\"a\": np.array([0, 0, 0, 0, 0, 0, 0, 0, 0, 0, 0, 0, 0, 0, 0, 0, 0, 0, 0, 0, 0, 0, 0, 0, 0, 0]),\n",
    "           \"b\": np.array([0, 0, 0, 0, 0, 0, 0, 0, 0, 0, 0, 0, 0, 0, 0, 2, 0, 0, 0, 0, 0, 0, 0, 0, 0, 0]),   \n",
    "           \"c\": np.array([0, 0, 0, 0, 0, 0, 0, 0, 0, 0, 0, 0, 0, 0, 0, 0, 0, 0, 0, 0, 0, 0, 0, 0, 0, 0])}"
   ]
  },
  {
   "cell_type": "markdown",
   "metadata": {},
   "source": [
    "## Cálculo dos vetores de cada aluno"
   ]
  },
  {
   "cell_type": "code",
   "execution_count": 9,
   "metadata": {
    "colab": {},
    "colab_type": "code",
    "id": "6DE-d6CeYqXB"
   },
   "outputs": [
    {
     "name": "stdout",
     "output_type": "stream",
     "text": [
      "{'Nome': 'aaa', 'Vetor': array([0, 0, 0, 0, 0, 0, 0, 0, 0, 0, 0, 0, 0, 0, 0, 0, 0, 0, 0, 0, 0, 0,\n",
      "       0, 0, 0, 0]), 'Telefone': 'aaa', 'Casta': 'Veterano', 'Local': ['a'], 'Interesses': ['b', 'c', 'd'], 'Roles': ['f', 'h'], 'Hobbies': ['e', 'i'], 'Areas': ['c', 'g'], 'Periodo': ['a']}\n",
      "{'Nome': 'Juliana Nub', 'Vetor': array([0, 0, 0, 0, 0, 0, 0, 0, 0, 0, 0, 0, 0, 0, 0, 0, 0, 0, 0, 0, 0, 0,\n",
      "       0, 0, 0, 0]), 'Telefone': '(21) Soumuito-nub!', 'Casta': 'Veterano', 'Local': ['j'], 'Interesses': ['d', 'f', 'g'], 'Roles': ['c', 'e', 'i'], 'Hobbies': ['a'], 'Areas': ['g'], 'Periodo': ['c']}\n",
      "{'Nome': 'Juliana', 'Vetor': array([0, 0, 0, 0, 0, 0, 0, 0, 0, 0, 0, 0, 0, 0, 0, 0, 0, 0, 0, 0, 0, 0,\n",
      "       0, 0, 0, 0]), 'Telefone': '9999999999999', 'Casta': 'Veterano', 'Local': ['g'], 'Interesses': ['a'], 'Roles': ['d'], 'Hobbies': ['a', 'j', 'k', 'l'], 'Areas': ['a', 'd', 'f'], 'Periodo': ['b']}\n",
      "{'Nome': 'Ada Lovelace', 'Vetor': array([0, 0, 0, 0, 0, 0, 0, 0, 0, 0, 0, 0, 0, 0, 0, 0, 0, 0, 0, 0, 0, 0,\n",
      "       0, 0, 0, 0]), 'Telefone': '190', 'Casta': 'Veterano', 'Local': ['h'], 'Interesses': ['b', 'c', 'e'], 'Roles': ['a', 'b', 'c'], 'Hobbies': ['f', 'g', 'j', 'l'], 'Areas': ['e', 'f', 'h'], 'Periodo': ['b']}\n",
      "{'Nome': 'Bob Esponja', 'Vetor': array([0, 0, 0, 0, 0, 0, 0, 0, 0, 0, 0, 0, 0, 0, 0, 0, 0, 0, 0, 0, 0, 0,\n",
      "       0, 0, 0, 0]), 'Telefone': 'Orkut do Neymar', 'Casta': 'Veterano', 'Local': ['i'], 'Interesses': ['b', 'c', 'd'], 'Roles': ['b', 'c', 'h'], 'Hobbies': ['e', 'h', 'i', 'l'], 'Areas': ['e', 'i'], 'Periodo': ['b']}\n",
      "{'Nome': 'Who let the dogs out', 'Vetor': array([0, 0, 0, 0, 0, 0, 0, 0, 0, 0, 0, 0, 0, 0, 0, 0, 0, 0, 0, 0, 0, 0,\n",
      "       0, 0, 0, 0]), 'Telefone': 'who who who', 'Casta': 'Veterano', 'Local': ['g'], 'Interesses': ['b', 'f', 'g'], 'Roles': ['e', 'f', 'g'], 'Hobbies': ['b', 'e', 'i', 'l'], 'Areas': ['c', 'f'], 'Periodo': ['a']}\n",
      "{'Nome': 'teste', 'Vetor': array([0, 0, 0, 0, 0, 0, 0, 0, 0, 0, 0, 0, 0, 0, 0, 0, 0, 0, 0, 0, 0, 0,\n",
      "       0, 0, 0, 0]), 'Telefone': 'teste', 'Casta': 'Calouro', 'Local': ['g'], 'Interesses': ['a'], 'Roles': ['d'], 'Hobbies': ['a'], 'Areas': ['a'], 'Ranking': []}\n",
      "{'Nome': 'Ana Hickmann', 'Vetor': array([0, 0, 0, 0, 0, 0, 0, 0, 0, 0, 0, 0, 0, 0, 0, 0, 0, 0, 0, 0, 0, 0,\n",
      "       0, 0, 0, 0]), 'Telefone': 'Bom Dia', 'Casta': 'Calouro', 'Local': ['d'], 'Interesses': ['b', 'e', 'h'], 'Roles': ['b', 'e', 'j', 'k'], 'Hobbies': ['c', 'd', 'f', 'h'], 'Areas': ['b', 'c', 'd'], 'Ranking': []}\n",
      "{'Nome': 'Felipe Prior', 'Vetor': array([0, 0, 0, 0, 0, 0, 0, 0, 0, 0, 0, 0, 0, 0, 0, 0, 0, 0, 0, 0, 0, 0,\n",
      "       0, 0, 0, 0]), 'Telefone': '(21) Babu-Santana', 'Casta': 'Calouro', 'Local': ['e'], 'Interesses': ['b', 'f', 'g'], 'Roles': ['b', 'd', 'g', 'j'], 'Hobbies': ['a', 'b', 'c', 'l'], 'Areas': ['h'], 'Ranking': []}\n",
      "{'Nome': 'matheus', 'Vetor': array([0, 0, 0, 0, 0, 0, 0, 0, 0, 0, 0, 0, 0, 0, 0, 0, 0, 0, 0, 0, 0, 0,\n",
      "       0, 0, 0, 0]), 'Telefone': 'matheus', 'Casta': 'Calouro', 'Local': ['a'], 'Interesses': ['c', 'd', 'f', 'g', 'h'], 'Roles': ['h', 'i', 'k'], 'Hobbies': ['e', 'k'], 'Areas': ['g', 'h', 'i'], 'Ranking': []}\n"
     ]
    }
   ],
   "source": [
    "# Geracao dos vetores de cada aluno\n",
    "for aluno in veteranos + calouros:\n",
    "    # Resposta de onde mora\n",
    "    if (len(aluno[\"Local\"]) != 0):\n",
    "        aluno[\"Vetor\"] += locais[aluno[\"Local\"][0]]\n",
    "\n",
    "    # Resposta de interesses extracurriculares\n",
    "    for opcoes in aluno[\"Interesses\"]:\n",
    "        aluno[\"Vetor\"] += interesses[opcoes]\n",
    "\n",
    "    # Resposta de roles\n",
    "    for opcoes in aluno[\"Roles\"]:\n",
    "        aluno[\"Vetor\"] += roles[opcoes]\n",
    "\n",
    "    # Respostas de hobbies\n",
    "    for opcoes in aluno[\"Hobbies\"]:\n",
    "        aluno[\"Vetor\"] += hobbies[opcoes]\n",
    "\n",
    "    # Respostas para outras areas\n",
    "    for opcoes in aluno[\"Areas\"]:\n",
    "        aluno[\"Vetor\"] += areas[opcoes]\n",
    "\n",
    "    # Respostas para periodos\n",
    "    if (aluno[\"Casta\"] == \"Veterano\"):\n",
    "        aluno[\"Vetor\"] += periodo[aluno[\"Periodo\"][0]]\n",
    "    else:\n",
    "        aluno[\"Vetor\"] += periodo[\"b\"]"
   ]
  },
  {
   "cell_type": "markdown",
   "metadata": {},
   "source": [
    "## Cálculo das distâncias e atribuição dos pares"
   ]
  },
  {
   "cell_type": "code",
   "execution_count": 10,
   "metadata": {
    "colab": {},
    "colab_type": "code",
    "id": "QqJg8c8HmlDe"
   },
   "outputs": [],
   "source": [
    "# Calculando a distancia do coseno entre cada calouro e os veteranos\n",
    "for cal in calouros:\n",
    "    # \"Reiniciamos\" o vetor para podermos rodar essa celula varias vezes\n",
    "    cal[\"Ranking\"] = []\n",
    "    \n",
    "    # Calculamos a distancia, veterano a veterano, e armazenamos em \"Ranking\"\n",
    "    # como [veterano, distancia]\n",
    "    for vet in veteranos:\n",
    "        dist = cosdist(cal[\"Vetor\"], vet[\"Vetor\"])\n",
    "        cal[\"Ranking\"].append([vet, dist])\n",
    "\n",
    "    # Ordenamos a lista\n",
    "    cal[\"Ranking\"].sort(key=lambda x: x[1])"
   ]
  },
  {
   "cell_type": "code",
   "execution_count": 11,
   "metadata": {
    "colab": {},
    "colab_type": "code",
    "id": "dKMR2GptuZ6B"
   },
   "outputs": [],
   "source": [
    "# PARA DEBUG\n",
    "#for cal in calouros:\n",
    "#  print(cal[\"Nome\"])\n",
    "#  for entry in cal[\"Ranking\"]:\n",
    "#    print(entry[0][\"Nome\"] + \" \" + str(entry[1]))\n",
    "#  print()"
   ]
  },
  {
   "cell_type": "code",
   "execution_count": 12,
   "metadata": {
    "colab": {},
    "colab_type": "code",
    "id": "-YOmyApR8FuL"
   },
   "outputs": [],
   "source": [
    "# O vetor de resultados sera mais enxuto\n",
    "resultados = [[\"Calouro\", \"Contato\", \"Veterano\", \"Contato\"]]\n",
    "\n",
    "# Percorremos a lista calouros ate que ela fique vazia\n",
    "while (len(calouros) > 0):\n",
    "    # Pegamos o primeiro calouro da lista, e seu veterano correspondente\n",
    "    calFinal = calouros[0]\n",
    "    vetFinal = calFinal[\"Ranking\"][0][0]\n",
    "\n",
    "    # Para cada outro calouro na lista... \n",
    "    for cal in calouros[1:]:\n",
    "        # Se o veterano nao for o \"vitorioso\" para cal, o removemos do Ranking\n",
    "        if (cal[\"Ranking\"][0][0] != vetFinal):\n",
    "            cal[\"Ranking\"] = [x for x in cal[\"Ranking\"] if x[0] != vetFinal]\n",
    "        else:\n",
    "            # Se for, vemos que calouro esta mais perto dele, que sera o calouro\n",
    "            # atribuido ao veterano \n",
    "            if (cal [\"Ranking\"][0][1] < calFinal [\"Ranking\"][0][1]):\n",
    "                indice = calouros.index(calFinal)\n",
    "                calouros[indice][\"Ranking\"].pop(0)\n",
    "                calFinal = cal\n",
    "            else:\n",
    "                cal[\"Ranking\"].pop(0)\n",
    "\n",
    "    # Adicionamos o par calouro/veterano a lista final e removemos o calFinal de calouros\n",
    "    resultados.append([calFinal[\"Nome\"], calFinal[\"Telefone\"], vetFinal[\"Nome\"], vetFinal[\"Telefone\"]])\n",
    "    calouros.remove(calFinal)"
   ]
  },
  {
   "cell_type": "code",
   "execution_count": 13,
   "metadata": {
    "colab": {
     "base_uri": "https://localhost:8080/",
     "height": 109
    },
    "colab_type": "code",
    "id": "PwkO6R3UP6Gk",
    "outputId": "b30ea59a-b3d2-49c1-ebee-78b3963c4b9c"
   },
   "outputs": [
    {
     "data": {
      "text/plain": [
       "[['Calouro', 'Contato', 'Veterano', 'Contato'],\n",
       " ['teste', 'teste', 'Juliana', '9999999999999'],\n",
       " ['Ana Hickmann', 'Bom Dia', 'Ada Lovelace', '190'],\n",
       " ['Felipe Prior', '(21) Babu-Santana', 'Who let the dogs out', 'who who who'],\n",
       " ['matheus', 'matheus', 'aaa', 'aaa']]"
      ]
     },
     "execution_count": 13,
     "metadata": {},
     "output_type": "execute_result"
    }
   ],
   "source": [
    "resultados"
   ]
  },
  {
   "cell_type": "code",
   "execution_count": 14,
   "metadata": {
    "colab": {},
    "colab_type": "code",
    "id": "ylbvsWJdP6G4"
   },
   "outputs": [],
   "source": [
    "# Exportando os resultados para um csv\n",
    "with open('resultados.csv', 'w', newline='') as csvfile:\n",
    "    filewriter = csv.writer(csvfile, delimiter=';', quotechar='\"', quoting=csv.QUOTE_MINIMAL)\n",
    "    filewriter.writerows(resultados)"
   ]
  }
 ],
 "metadata": {
  "colab": {
   "collapsed_sections": [],
   "name": "Apadrinhamatch.ipynb",
   "provenance": []
  },
  "kernelspec": {
   "display_name": "Python 3",
   "language": "python",
   "name": "python3"
  },
  "language_info": {
   "codemirror_mode": {
    "name": "ipython",
    "version": 3
   },
   "file_extension": ".py",
   "mimetype": "text/x-python",
   "name": "python",
   "nbconvert_exporter": "python",
   "pygments_lexer": "ipython3",
   "version": "3.7.3"
  }
 },
 "nbformat": 4,
 "nbformat_minor": 1
}
